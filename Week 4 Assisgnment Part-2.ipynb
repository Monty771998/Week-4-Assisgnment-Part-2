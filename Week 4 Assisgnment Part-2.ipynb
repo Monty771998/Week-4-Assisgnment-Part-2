{
 "cells": [
  {
   "cell_type": "markdown",
   "id": "807976dd-7242-470d-989d-90cf8994becd",
   "metadata": {},
   "source": [
    "Q1. What is Abstraction in OOps? Explain with an example."
   ]
  },
  {
   "cell_type": "code",
   "execution_count": null,
   "id": "586e7687-b5df-4b81-9cc0-7bbe6f03e5ef",
   "metadata": {},
   "outputs": [],
   "source": [
    "It hides the implementation details of an object and  only the essential features of the object can be accessed."
   ]
  },
  {
   "cell_type": "code",
   "execution_count": 6,
   "id": "d68d21c9-2a3a-4d93-86fd-4d99209c09b2",
   "metadata": {},
   "outputs": [],
   "source": [
    "import abc \n",
    "class bus:\n",
    "    @abc.abstractmethod\n",
    "    def speed(self):\n",
    "        print('speed high')\n",
    "    \n",
    "    def avg(self,new_avg):\n",
    "        return new_avg\n",
    "        \n",
    "    \n",
    "class truck(bus):\n",
    "    def speed(self,new_speed):\n",
    "        return new_speed\n",
    "        "
   ]
  },
  {
   "cell_type": "code",
   "execution_count": 7,
   "id": "181039ad-319c-47b2-b8f7-0c7ff67fe490",
   "metadata": {},
   "outputs": [],
   "source": [
    "tr = truck()"
   ]
  },
  {
   "cell_type": "code",
   "execution_count": 8,
   "id": "64209d91-416f-4ac4-bf54-e4b1bc653c0d",
   "metadata": {},
   "outputs": [
    {
     "data": {
      "text/plain": [
       "100"
      ]
     },
     "execution_count": 8,
     "metadata": {},
     "output_type": "execute_result"
    }
   ],
   "source": [
    "tr.speed(100)"
   ]
  },
  {
   "cell_type": "code",
   "execution_count": 9,
   "id": "e3dd1ce4-b9c4-4cd0-b378-fbe658ee8f45",
   "metadata": {},
   "outputs": [
    {
     "data": {
      "text/plain": [
       "50"
      ]
     },
     "execution_count": 9,
     "metadata": {},
     "output_type": "execute_result"
    }
   ],
   "source": [
    "tr.avg(50)"
   ]
  },
  {
   "cell_type": "code",
   "execution_count": null,
   "id": "732d42ef-f5ea-4aba-a6d9-d0a1afb3ef32",
   "metadata": {},
   "outputs": [],
   "source": [
    "in Bus class ,speed method is hidden while avg method is available to users"
   ]
  },
  {
   "cell_type": "code",
   "execution_count": null,
   "id": "a9a019dc-5a20-4209-8fc2-54ab514c75f0",
   "metadata": {},
   "outputs": [],
   "source": []
  },
  {
   "cell_type": "markdown",
   "id": "8822cbca-9b82-477c-9538-77c3edc0b35b",
   "metadata": {},
   "source": [
    "Q2. Differentiate between Abstraction and Encapsulation. Explain with an example."
   ]
  },
  {
   "cell_type": "code",
   "execution_count": null,
   "id": "180b91ea-e978-4737-b4f7-67fe59aac000",
   "metadata": {},
   "outputs": [],
   "source": [
    "Encapsulating is used to do protect and private the the attributes or details while Abstraction is used to\n",
    "hides the implementation details of an object\n"
   ]
  },
  {
   "cell_type": "code",
   "execution_count": 1,
   "id": "46f60c69-86d4-4dd4-b64e-12c9a33854a4",
   "metadata": {},
   "outputs": [],
   "source": [
    "class Car:\n",
    "\n",
    "    def __init__(self, make, model):\n",
    "        self.__make = make\n",
    "        self.__model = model\n",
    "\n",
    "    def drive(self):\n",
    "        print(\"The car is driving.\")\n",
    "\n",
    "    def get_make(self):\n",
    "        return self.__make\n",
    "\n",
    "    def get_model(self):\n",
    "        return self.__model"
   ]
  },
  {
   "cell_type": "code",
   "execution_count": null,
   "id": "ed155cc8-e9bb-4839-84a7-8ee715f64cf6",
   "metadata": {},
   "outputs": [],
   "source": [
    "here user can not modify make,model attributes because it is protected by encapsulation  but can get access by getter .\n",
    "here it is example of abstraction also because user dont need to know about implementation of drive method or\n",
    "make,model properties ,they just need to know this method or properties. "
   ]
  },
  {
   "cell_type": "code",
   "execution_count": null,
   "id": "5808b70b-d512-4459-aedf-ce4de7f2b447",
   "metadata": {},
   "outputs": [],
   "source": []
  },
  {
   "cell_type": "markdown",
   "id": "5857f195-05e9-42c9-9c3d-ddc450f53fc6",
   "metadata": {},
   "source": [
    "Q3. What is abc module in python? Why is it used?"
   ]
  },
  {
   "cell_type": "code",
   "execution_count": null,
   "id": "98b6e67b-8fab-4db1-9545-0362e930c821",
   "metadata": {},
   "outputs": [],
   "source": [
    "The abc module in Python is used to define abstract base classes and enforce method implementations in derived classes. \n",
    "It promotes code structure and adherence to interfaces."
   ]
  },
  {
   "cell_type": "code",
   "execution_count": null,
   "id": "ba00fd17-d4de-462d-b0b2-dab385ab300c",
   "metadata": {},
   "outputs": [],
   "source": []
  },
  {
   "cell_type": "markdown",
   "id": "be02d273-11ef-4b57-94ed-112000af664c",
   "metadata": {},
   "source": [
    "Q4. How can we achieve data abstraction?"
   ]
  },
  {
   "cell_type": "code",
   "execution_count": null,
   "id": "48e0779c-fd97-43ac-967c-e5c0ef7b2c4d",
   "metadata": {},
   "outputs": [],
   "source": [
    "Data abstraction can be achieved in Python using abstract classes, interfaces, and encapsulation. These techniques\n",
    "hide the implementation details of an object and only expose the essential details, making the object easier to\n",
    "use and understand"
   ]
  },
  {
   "cell_type": "code",
   "execution_count": null,
   "id": "c35b164f-2e99-436b-99f7-33d23041122a",
   "metadata": {},
   "outputs": [],
   "source": []
  },
  {
   "cell_type": "markdown",
   "id": "37c25564-b086-450b-8157-ba7a7aff3773",
   "metadata": {},
   "source": [
    "Q5. Can we create an instance of an abstract class? Explain your answer."
   ]
  },
  {
   "cell_type": "code",
   "execution_count": null,
   "id": "2e9b1537-3692-408f-a6e8-c711663b8ee5",
   "metadata": {},
   "outputs": [],
   "source": [
    "we cannot create an instance of an abstract class because it is used as a blueprint for other classes, and they cannot be\n",
    "instantiated on their own."
   ]
  },
  {
   "cell_type": "code",
   "execution_count": 10,
   "id": "7546ccd3-e891-4890-b3ba-807c8169787e",
   "metadata": {},
   "outputs": [],
   "source": [
    "from abc import ABC, abstractmethod \n",
    "class bike(ABC):\n",
    "    @abc.abstractmethod\n",
    "    def speed(self):\n",
    "        pass \n",
    "    @abc.abstractmethod\n",
    "    def avg(self):\n",
    "        pass"
   ]
  },
  {
   "cell_type": "code",
   "execution_count": 11,
   "id": "ed06f874-12e5-46bd-94e5-d3bb3d4caadc",
   "metadata": {},
   "outputs": [
    {
     "ename": "TypeError",
     "evalue": "Can't instantiate abstract class bike with abstract methods avg, speed",
     "output_type": "error",
     "traceback": [
      "\u001b[0;31m---------------------------------------------------------------------------\u001b[0m",
      "\u001b[0;31mTypeError\u001b[0m                                 Traceback (most recent call last)",
      "Cell \u001b[0;32mIn[11], line 1\u001b[0m\n\u001b[0;32m----> 1\u001b[0m bik \u001b[38;5;241m=\u001b[39m \u001b[43mbike\u001b[49m\u001b[43m(\u001b[49m\u001b[43m)\u001b[49m\n",
      "\u001b[0;31mTypeError\u001b[0m: Can't instantiate abstract class bike with abstract methods avg, speed"
     ]
    }
   ],
   "source": [
    "bik = bike()"
   ]
  },
  {
   "cell_type": "code",
   "execution_count": null,
   "id": "c51d4ddd-a789-4549-9f4c-6beeddcbb1ec",
   "metadata": {},
   "outputs": [],
   "source": []
  }
 ],
 "metadata": {
  "kernelspec": {
   "display_name": "Python 3 (ipykernel)",
   "language": "python",
   "name": "python3"
  },
  "language_info": {
   "codemirror_mode": {
    "name": "ipython",
    "version": 3
   },
   "file_extension": ".py",
   "mimetype": "text/x-python",
   "name": "python",
   "nbconvert_exporter": "python",
   "pygments_lexer": "ipython3",
   "version": "3.10.8"
  }
 },
 "nbformat": 4,
 "nbformat_minor": 5
}
